{
 "cells": [
  {
   "attachments": {},
   "cell_type": "markdown",
   "metadata": {},
   "source": [
    "# Setup"
   ]
  },
  {
   "cell_type": "code",
   "execution_count": 2,
   "metadata": {},
   "outputs": [],
   "source": [
    "# import libs\n",
    "import pandas as pd\n",
    "import numpy as np\n",
    "import tensorflow as tf\n",
    "import matplotlib.pyplot as plt\n",
    "import os\n",
    "import seaborn as sns\n",
    "import cv2\n",
    "from PIL import Image\n",
    "from keras.callbacks import CSVLogger\n",
    "from keras.callbacks import EarlyStopping\n",
    "from datetime import datetime\n",
    "from sklearn.model_selection import train_test_split\n",
    "\n"
   ]
  },
  {
   "attachments": {},
   "cell_type": "markdown",
   "metadata": {},
   "source": [
    "# Global Variables"
   ]
  },
  {
   "cell_type": "code",
   "execution_count": 3,
   "metadata": {},
   "outputs": [],
   "source": [
    "# Global variables\n",
    "channel_dict = {\n",
    "    'RGB' : 3,\n",
    "    'RGBcanny' : 4,\n",
    "    'Grayscale' : 1,\n",
    "    'Canny' : 1\n",
    "}\n",
    "\n",
    "fruit_array = [\"apple\",\"banana\", \"orange\", \"mixed\"]"
   ]
  },
  {
   "attachments": {},
   "cell_type": "markdown",
   "metadata": {},
   "source": [
    "# Instanced Variables"
   ]
  },
  {
   "cell_type": "code",
   "execution_count": 4,
   "metadata": {},
   "outputs": [],
   "source": [
    "# Set Variables\n",
    "img_size = 64 #16\n",
    "epochs = 64\n",
    "batchsize= 10\n",
    "validation_split=0.1\n",
    "\n",
    "# Model Variant- See Function Definitions (Model Augmentation)\n",
    "var_model = 'Else' #'001'\n",
    "\n",
    "# Data Variant- See \\ML_Proj_Data\\train\n",
    "var_data = '01EDIT' #'00BASE' #'02EDIT'  \n",
    "\n",
    "# Augmentation Variant- See\n",
    "var_aug= ['RGBcanny', None] #'RGB' # 'RGBcanny' # 'Grayscale' # 'Canny'\n",
    "\n",
    "\n",
    "# Automatic Variables\n",
    "model_data_id = '[{model}]-[{data}]-[{imgaug01}]-[{imgaug02}]'.format(\n",
    "    model=var_model,\n",
    "    data=var_data,    \n",
    "    imgaug01=var_aug[0],\n",
    "    imgaug02=var_aug[1]) \n",
    "channels=channel_dict[var_aug[0]]\n"
   ]
  },
  {
   "attachments": {},
   "cell_type": "markdown",
   "metadata": {},
   "source": [
    "# Functions"
   ]
  },
  {
   "attachments": {},
   "cell_type": "markdown",
   "metadata": {},
   "source": [
    "## Function Definitions (Image Augmentation)"
   ]
  },
  {
   "cell_type": "code",
   "execution_count": 5,
   "metadata": {},
   "outputs": [],
   "source": [
    "def first_augmentation_step(first_aug, img):\n",
    "    '''\n",
    "    For pre-processing image channels- Edge maps, color, etc.\n",
    "    ALWAYS accept and return a PIL image\n",
    "    ALWAYS return a PIL image, even if preprocessing with CV2\n",
    "    '''\n",
    "\n",
    "    if  first_aug=='RGB':\n",
    "        return img\n",
    "    \n",
    "    elif first_aug=='RGBcanny':\n",
    "        #convert to np ndarray\n",
    "        PIL_array = np.array(img)\n",
    "\n",
    "        ## debugging\n",
    "        # print(type(PIL_array)) #np.ndarray\n",
    "        # print(PIL_array.shape) #349,3\n",
    "\n",
    "        cv2_image = cv2.cvtColor(PIL_array, cv2.COLOR_RGB2BGR)\n",
    "        gray = cv2.cvtColor(cv2_image, cv2.COLOR_BGR2GRAY) #convert to grayscale\n",
    "        blurred = cv2.GaussianBlur(gray, (5, 5), 0)\n",
    "        edges = cv2.Canny(blurred, 30, 100)\n",
    "\n",
    "        ## debugging\n",
    "        # print(type(edges)) #np.ndarray\n",
    "        # print(edges.shape) #349,\n",
    "\n",
    "        final_img_array = np.dstack((PIL_array, edges))\n",
    "        RGBwMap = Image.fromarray(final_img_array)\n",
    "        return RGBwMap\n",
    "    \n",
    "    elif first_aug=='Grayscale':\n",
    "        PIL_array = np.array(img)\n",
    "\n",
    "        # need this line in case the image type is 'P'\n",
    "        # error:\n",
    "            # Invalid number of channels in input image:\n",
    "            # >     'VScn::contains(scn)'\n",
    "            # > where\n",
    "            # >     'scn' is 1\n",
    "        cv2_image = cv2.cvtColor(PIL_array, cv2.COLOR_RGB2BGR)\n",
    "        gray = cv2.cvtColor(cv2_image, cv2.COLOR_BGR2GRAY)\n",
    "\n",
    "        #final_img_array = cv2_image.numpy()\n",
    "        grayscale = Image.fromarray(cv2_image)\n",
    "\n",
    "        return grayscale\n",
    "    \n",
    "    elif first_aug=='Canny':\n",
    "        PIL_array = np.array(img)\n",
    "\n",
    "        cv2_image = cv2.cvtColor(PIL_array, cv2.COLOR_RGB2BGR)\n",
    "        gray = cv2.cvtColor(cv2_image, cv2.COLOR_BGR2GRAY) #convert to grayscale\n",
    "        \n",
    "        blurred = cv2.GaussianBlur(gray, (5, 5), 0)\n",
    "        edges = cv2.Canny(blurred, 30, 100)\n",
    "\n",
    "        canny = Image.fromarray(edges)\n",
    "        return canny\n",
    "    \n",
    "    else:\n",
    "        print('ERROR: No image augmentation selected!')\n",
    "    "
   ]
  },
  {
   "cell_type": "code",
   "execution_count": 6,
   "metadata": {},
   "outputs": [],
   "source": [
    "def second_augmentation_step(second_aug, img):\n",
    "    '''\n",
    "    For pre-processing image loci- translation, rotation, zooming, flipping \n",
    "    ALWAYS accept and return a PIL image\n",
    "    '''\n",
    "    if second_aug=='test':\n",
    "        print('Testing image augmentation')\n",
    "        return img\n",
    "    else:\n",
    "        return img\n",
    "    "
   ]
  },
  {
   "attachments": {},
   "cell_type": "markdown",
   "metadata": {},
   "source": [
    "## Function Definitions (Model Augmentation)"
   ]
  },
  {
   "cell_type": "code",
   "execution_count": 7,
   "metadata": {},
   "outputs": [],
   "source": [
    "def create_model(input_dimension=224, channels=3, model_type=None, num_classifications=4):\n",
    "    '''\n",
    "    Create a model\n",
    "    Use 'flatten' or 'pooling' depending on settings\n",
    "    '''\n",
    "    model = tf.keras.Sequential()\n",
    "    num_classifications=num_classifications\n",
    "    \n",
    "    if model_type=='000':\n",
    "        # engel test\n",
    "        model.add(tf.keras.layers.Conv2D(\n",
    "            filters = 64, \n",
    "            kernel_size = (3,3),\n",
    "            activation = 'relu', \n",
    "            input_shape = (input_dimension,input_dimension,channels)))\n",
    "        model.add(tf.keras.layers.MaxPooling2D((2,2),(2,2)))\n",
    "        model.add(tf.keras.layers.Conv2D(\n",
    "            filters = 64, \n",
    "            kernel_size = (3,3),\n",
    "            activation = 'relu', \n",
    "            input_shape = (input_dimension,input_dimension,channels)))\n",
    "        model.add(tf.keras.layers.MaxPooling2D((2,2),(2,2)))\n",
    "\n",
    "        model.add(tf.keras.layers.GlobalAveragePooling2D())\n",
    "        model.add(tf.keras.layers.Dense(units=128, activation='relu'))\n",
    "        \n",
    "    elif model_type=='001':\n",
    "        # engel edit\n",
    "        model.add(tf.keras.layers.Conv2D(\n",
    "            filters = 32, \n",
    "            kernel_size = (3,3),\n",
    "            activation = 'relu', \n",
    "            input_shape = (input_dimension,input_dimension,channels)))\n",
    "        model.add(tf.keras.layers.Conv2D(\n",
    "            filters = 32, \n",
    "            kernel_size = (3,3),\n",
    "            activation='relu'))\n",
    "        model.add(tf.keras.layers.MaxPooling2D((2,2),(2,2)))\n",
    "\n",
    "        model.add(tf.keras.layers.Conv2D(32, (3,3), activation='relu'))\n",
    "        model.add(tf.keras.layers.Conv2D(32, (3,3), activation='relu'))\n",
    "        model.add(tf.keras.layers.MaxPooling2D((2,2),(2,2)))\n",
    "\n",
    "        model.add(tf.keras.layers.GlobalAveragePooling2D())\n",
    "        model.add(tf.keras.layers.Dense(units=128, activation='relu'))\n",
    "        model.add(tf.keras.layers.Dense(units=64, activation='relu'))\n",
    "\n",
    "    elif model_type=='002':\n",
    "        # cherwah's recommendation on kernel size\n",
    "        model.add(tf.keras.layers.Conv2D(\n",
    "            filters = 32, \n",
    "            kernel_size = (7,7),\n",
    "            activation = 'relu', \n",
    "            input_shape = (input_dimension,input_dimension,channels)))\n",
    "        model.add(tf.keras.layers.Conv2D(\n",
    "            filters = 32, \n",
    "            kernel_size = (5,5),\n",
    "            activation='relu'))\n",
    "        model.add(tf.keras.layers.Conv2D(\n",
    "            filters = 32, \n",
    "            kernel_size = (5,5),\n",
    "            activation='relu'))\n",
    "        model.add(tf.keras.layers.MaxPooling2D((2,2),(2,2)))\n",
    "\n",
    "        model.add(tf.keras.layers.Conv2D(32, (3,3), activation='relu'))\n",
    "        model.add(tf.keras.layers.Conv2D(32, (3,3), activation='relu'))\n",
    "        model.add(tf.keras.layers.MaxPooling2D((2,2),(2,2)))\n",
    "\n",
    "        model.add(tf.keras.layers.GlobalAveragePooling2D())\n",
    "        model.add(tf.keras.layers.Dense(units=128, activation='relu'))\n",
    "    else:\n",
    "        # ref- engel model\n",
    "        model.add(tf.keras.layers.Conv2D(\n",
    "            filters = 32, \n",
    "            kernel_size = (3,3),\n",
    "            activation = 'relu', \n",
    "            input_shape = (input_dimension,input_dimension,channels)))\n",
    "        model.add(tf.keras.layers.Conv2D(\n",
    "            filters = 32, \n",
    "            kernel_size = (3,3),\n",
    "            activation='relu'))\n",
    "        model.add(tf.keras.layers.MaxPooling2D((2,2),(2,2)))\n",
    "\n",
    "        model.add(tf.keras.layers.Conv2D(32, (3,3), activation='relu'))\n",
    "        model.add(tf.keras.layers.Conv2D(32, (3,3), activation='relu'))\n",
    "        model.add(tf.keras.layers.MaxPooling2D((2,2),(2,2)))\n",
    "\n",
    "        model.add(tf.keras.layers.GlobalAveragePooling2D())\n",
    "        model.add(tf.keras.layers.Dense(units=128, activation='relu'))\n",
    "\n",
    "    # Final layer\n",
    "    # 4 classifications- Apple, Banana, Orange, Mixed\n",
    "    model.add(tf.keras.layers.Dense(units=num_classifications, activation='softmax'))\n",
    "    model.compile(loss='categorical_crossentropy', \n",
    "                  optimizer='adam', \n",
    "                  metrics=['accuracy'])\n",
    "\n",
    "    return model"
   ]
  },
  {
   "attachments": {},
   "cell_type": "markdown",
   "metadata": {},
   "source": [
    "## Function Definitions (General)"
   ]
  },
  {
   "cell_type": "code",
   "execution_count": 8,
   "metadata": {},
   "outputs": [],
   "source": [
    "# define func\n",
    "\n",
    "def show_image(X_train,index):\n",
    "    '''\n",
    "    Display the image at the specific index of the reshaped array\n",
    "    '''\n",
    "    if not index  < X_train.shape[0]:\n",
    "        print(\"Array does not contain your desired image index.\")\n",
    "    image_array = X_train[index]\n",
    "    image = Image.fromarray(np.uint8(image_array))\n",
    "    image.show()\n",
    "\n",
    "def prep_train_data(subfolder_name, desired_size, var_aug_type):\n",
    "    new_size = desired_size\n",
    "    paths = []\n",
    "    \n",
    "    for fruit in fruit_array:\n",
    "        paths.append('ML_Proj_Data/train/{subfolder}/{fruit}'.format(subfolder=subfolder_name,fruit=fruit))\n",
    "\n",
    "    return prep_data(paths,new_size,var_aug_type)\n",
    "\n",
    "def prep_test_data(desired_size, var_aug_type):\n",
    "    new_size = desired_size\n",
    "    paths = []\n",
    "\n",
    "    for fruit in fruit_array:\n",
    "        paths.append('ML_Proj_Data/test/{fruit}'.format(fruit=fruit))\n",
    "\n",
    "    return prep_data(paths,new_size, var_aug_type)\n",
    "\n",
    "def prep_data(paths, desired_size, var_aug_type):\n",
    "    '''\n",
    "    Pre-process all images in each of the 4 paths.\n",
    "    '''\n",
    "    new_size = desired_size\n",
    "\n",
    "    for i in range(len(paths)):\n",
    "        data = read_img_data(paths[i],new_size, var_aug_type)\n",
    "        \n",
    "        #test if it works by showing image\n",
    "        # show_image(data,0)\n",
    "        # show_image(data,1)\n",
    "\n",
    "        try: \n",
    "            # concatenate if initialized\n",
    "            X = np.concatenate((X,data))\n",
    "        except:\n",
    "            # initialize if not\n",
    "            X = data\n",
    "\n",
    "        y_onehots = map_type_to_onehot(paths[i], data.shape[0])\n",
    "        try:\n",
    "            y = np.concatenate((y,y_onehots))\n",
    "        except:\n",
    "            y = y_onehots\n",
    "        \n",
    "    return X,y\n",
    "\n",
    "def map_type_to_onehot(file_path, n_rows):\n",
    "    '''\n",
    "    Map the type of image to digit.\n",
    "    Takes in a specific file path.\n",
    "    Returns a onehot encoded 1D array.\n",
    "    '''\n",
    "    y_onehot = [0]*4\n",
    "    fruit_onehot_dict =\t{\n",
    "    \"apple\": [1,0,0,0],\n",
    "    \"banana\": [0,1,0,0],\n",
    "    \"orange\": [0,0,1,0],\n",
    "    \"mixed\": [0,0,0,1]\n",
    "    }\n",
    "\n",
    "    normalized_path = file_path.replace('\\\\','/')\n",
    "    segments = normalized_path.split('/')\n",
    "    final_segment = segments[-1]\n",
    "\n",
    "    if '.jpg' in final_segment:\n",
    "        # incorrect path structure but handle it anyway\n",
    "        prefix = final_segment.split('_')[0]\n",
    "    else:\n",
    "        prefix = final_segment\n",
    "\n",
    "    if prefix in fruit_onehot_dict:\n",
    "        y_onehot =  fruit_onehot_dict[prefix]\n",
    "\n",
    "    y_onehots = [y_onehot] * n_rows\n",
    "    # convert python list to numpy array\n",
    "    # as keras requires numpy array\n",
    "    return np.array(y_onehots)\n",
    "\n",
    "def read_img_data(path, desired_size, var_aug_type):\n",
    "    '''\n",
    "    Loops through every file in a specific path\n",
    "    Opens, pre-processes, and adds each image to X_train\n",
    "    '''\n",
    "\n",
    "    for file in os.listdir(path):\n",
    "        if file[0] == '.':  # skip hidden files\n",
    "            continue\n",
    "\n",
    "        img = Image.open(\"{path}/{file}\".format(path=path,file=file))\n",
    "        img = preprocess_image(img, desired_size, var_aug_type)\n",
    "    \n",
    "        try:\n",
    "            # concatenate every subsequent img to x_train after it has been initialized at (i=0)\n",
    "            X_train = np.concatenate((X_train, img))\n",
    "        except:\n",
    "            # initialize x_train and assign img to it as the first value if it does not exist (i=0)\n",
    "            X_train = img\n",
    "\n",
    "            #code for ndim canny map in channels in np.reshape\n",
    "            channels=channel_dict[var_aug_type[0]]\n",
    "    \n",
    "    # returns the entire folder of images as a single array\n",
    "\n",
    "    return np.reshape(X_train, (-1,desired_size,desired_size,channels))\n",
    "\n",
    "\n",
    "def preprocess_image(img, desired_size, var_aug_type):\n",
    "    '''\n",
    "    Pre-process specific image object ONLY.\n",
    "    Convert to RGB to reduce unnecessary features (remove alpha, ndim 4-> 3) and increase training speed.\n",
    "    (!) must be for looped!\n",
    "    '''\n",
    "    # new 2D image size\n",
    "    new_size = (desired_size,desired_size)\n",
    "\n",
    "    # remove alpha channel\n",
    "    if img.mode in ('RGBA', 'LA') or (img.mode == 'P' and 'transparency' in img.info):\n",
    "        #convert to RGBA to use alpha_composite function\n",
    "        img = img.convert('RGBA')\n",
    "        bg = Image.new('RGBA',img.size, (255, 255, 255))\n",
    "\n",
    "        bg.alpha_composite(img, (0,0))\n",
    "        img = bg.convert('RGB')\n",
    "\n",
    "        if img.mode != 'RGB':\n",
    "            img = img.convert('RGB')\n",
    "\n",
    "    img_aug1 = first_augmentation_step(first_aug=var_aug_type[0], img=img)\n",
    "\n",
    "    resized_img = img_aug1.resize(new_size)\n",
    "\n",
    "    img_aug2 = second_augmentation_step(second_aug=var_aug_type[1], img=resized_img)\n",
    "\n",
    "    return img_aug2\n",
    "\n",
    "def save_model(model, path_fragment):\n",
    "    path = 'ML_Proj_Data/model/{pathfragment}'.format(pathfragment=path_fragment)\n",
    "    model.save(path)\n",
    "\n",
    "def load_model(path_fragment):\n",
    "    path = 'ML_Proj_Data/model/{pathfragment}'.format(pathfragment=path_fragment)\n",
    "    return tf.keras.models.load_model(path)\n",
    "\n",
    "def test_model(model, X_test, y_test):\n",
    "    return model.evaluate(x=X_test, y=y_test)\n"
   ]
  },
  {
   "attachments": {},
   "cell_type": "markdown",
   "metadata": {},
   "source": [
    "# Model Training and Fitting"
   ]
  },
  {
   "attachments": {},
   "cell_type": "markdown",
   "metadata": {},
   "source": [
    "## Data Preparation"
   ]
  },
  {
   "cell_type": "code",
   "execution_count": 9,
   "metadata": {},
   "outputs": [
    {
     "name": "stdout",
     "output_type": "stream",
     "text": [
      "X_train: (267, 64, 64, 4), y_train: (267, 4)\n",
      "X_validate: (30, 64, 64, 4), y_validate: (30, 4)\n",
      "X_test: (60, 64, 64, 4), y_test: (60, 4)\n"
     ]
    }
   ],
   "source": [
    "# Prep training, validation and test data\n",
    "\n",
    "X_data, y_data = prep_train_data(subfolder_name=var_data, desired_size=img_size, var_aug_type=var_aug)\n",
    "\n",
    "X_train, X_validate, y_train, y_validate = train_test_split(X_data, y_data, test_size=validation_split, stratify=y_data)\n",
    "\n",
    "X_test, y_test = prep_test_data(img_size, var_aug_type=var_aug)\n",
    "\n",
    "print('X_train: {X_train}, y_train: {y_train}'.format(X_train=X_train.shape, y_train=y_train.shape))\n",
    "print('X_validate: {X_validate}, y_validate: {y_validate}'.format(X_validate=X_validate.shape, y_validate=y_validate.shape))\n",
    "print('X_test: {X_test}, y_test: {y_test}'.format(X_test=X_test.shape, y_test=y_test.shape))\n"
   ]
  },
  {
   "attachments": {},
   "cell_type": "markdown",
   "metadata": {},
   "source": [
    "## (Optional) Check Validation Set"
   ]
  },
  {
   "cell_type": "code",
   "execution_count": 10,
   "metadata": {},
   "outputs": [
    {
     "name": "stdout",
     "output_type": "stream",
     "text": [
      "Onehots= [[0 0 0 1]\n",
      " [0 0 1 0]\n",
      " [0 1 0 0]\n",
      " [1 0 0 0]]\n",
      "Onehot data distribution count= [8 7 7 8]\n"
     ]
    }
   ],
   "source": [
    "# Check if validation sample is evenly distributed\n",
    "\n",
    "# print(type(y_validate))\n",
    "yv_urows, yv_counts = np.unique(y_validate, axis=0, return_counts=True)\n",
    "print (\"Onehots= {}\".format(yv_urows))\n",
    "print (\"Onehot data distribution count= {}\".format(yv_counts))"
   ]
  },
  {
   "attachments": {},
   "cell_type": "markdown",
   "metadata": {},
   "source": [
    "## Create and Fit Model"
   ]
  },
  {
   "cell_type": "code",
   "execution_count": 11,
   "metadata": {},
   "outputs": [
    {
     "name": "stdout",
     "output_type": "stream",
     "text": [
      "Epoch 1/64\n",
      "27/27 [==============================] - 2s 42ms/step - loss: 1.3863 - accuracy: 0.2434 - val_loss: 1.3819 - val_accuracy: 0.1667\n",
      "Epoch 2/64\n",
      "27/27 [==============================] - 1s 35ms/step - loss: 1.3647 - accuracy: 0.2509 - val_loss: 1.3516 - val_accuracy: 0.1667\n",
      "Epoch 3/64\n",
      "27/27 [==============================] - 1s 35ms/step - loss: 1.2580 - accuracy: 0.4082 - val_loss: 1.0701 - val_accuracy: 0.5000\n",
      "Epoch 4/64\n",
      "27/27 [==============================] - 1s 36ms/step - loss: 1.1802 - accuracy: 0.4757 - val_loss: 1.0589 - val_accuracy: 0.6000\n",
      "Epoch 5/64\n",
      "27/27 [==============================] - 1s 46ms/step - loss: 1.0754 - accuracy: 0.5318 - val_loss: 0.9399 - val_accuracy: 0.6333\n",
      "Epoch 6/64\n",
      "27/27 [==============================] - 3s 95ms/step - loss: 0.9348 - accuracy: 0.6030 - val_loss: 0.8501 - val_accuracy: 0.6667\n",
      "Epoch 7/64\n",
      "27/27 [==============================] - 1s 34ms/step - loss: 0.8034 - accuracy: 0.6367 - val_loss: 0.8772 - val_accuracy: 0.7000\n",
      "Epoch 8/64\n",
      "27/27 [==============================] - 1s 38ms/step - loss: 0.6931 - accuracy: 0.7191 - val_loss: 0.9428 - val_accuracy: 0.6333\n",
      "Epoch 9/64\n",
      "27/27 [==============================] - 1s 33ms/step - loss: 0.6774 - accuracy: 0.7378 - val_loss: 0.7645 - val_accuracy: 0.6667\n",
      "Epoch 10/64\n",
      "27/27 [==============================] - 1s 35ms/step - loss: 0.6171 - accuracy: 0.7603 - val_loss: 0.7100 - val_accuracy: 0.6667\n",
      "Epoch 11/64\n",
      "27/27 [==============================] - 2s 61ms/step - loss: 0.6151 - accuracy: 0.7491 - val_loss: 1.1758 - val_accuracy: 0.6000\n",
      "Epoch 12/64\n",
      "27/27 [==============================] - 2s 65ms/step - loss: 0.6412 - accuracy: 0.7266 - val_loss: 0.8041 - val_accuracy: 0.6667\n",
      "Epoch 13/64\n",
      "27/27 [==============================] - 1s 44ms/step - loss: 0.5774 - accuracy: 0.7828 - val_loss: 0.6355 - val_accuracy: 0.7333\n",
      "Epoch 14/64\n",
      "27/27 [==============================] - 1s 48ms/step - loss: 0.5654 - accuracy: 0.7753 - val_loss: 0.7416 - val_accuracy: 0.6333\n",
      "Epoch 15/64\n",
      "27/27 [==============================] - 1s 43ms/step - loss: 0.5574 - accuracy: 0.7978 - val_loss: 0.6285 - val_accuracy: 0.7333\n",
      "Epoch 16/64\n",
      "27/27 [==============================] - 2s 67ms/step - loss: 0.5209 - accuracy: 0.8052 - val_loss: 0.6415 - val_accuracy: 0.7333\n",
      "Epoch 17/64\n",
      "27/27 [==============================] - 1s 44ms/step - loss: 0.4818 - accuracy: 0.8240 - val_loss: 0.7300 - val_accuracy: 0.6667\n",
      "Epoch 18/64\n",
      "27/27 [==============================] - 1s 44ms/step - loss: 0.4408 - accuracy: 0.8240 - val_loss: 0.5448 - val_accuracy: 0.7667\n",
      "Epoch 19/64\n",
      "27/27 [==============================] - 1s 51ms/step - loss: 0.4598 - accuracy: 0.8352 - val_loss: 1.0246 - val_accuracy: 0.6333\n",
      "Epoch 20/64\n",
      "27/27 [==============================] - 1s 43ms/step - loss: 0.4336 - accuracy: 0.8277 - val_loss: 0.5738 - val_accuracy: 0.7000\n",
      "Epoch 21/64\n",
      "27/27 [==============================] - 2s 59ms/step - loss: 0.3861 - accuracy: 0.8539 - val_loss: 0.7265 - val_accuracy: 0.7000\n",
      "Epoch 22/64\n",
      "27/27 [==============================] - 1s 49ms/step - loss: 0.4035 - accuracy: 0.8315 - val_loss: 0.7088 - val_accuracy: 0.7667\n",
      "Epoch 23/64\n",
      "27/27 [==============================] - 1s 54ms/step - loss: 0.3777 - accuracy: 0.8539 - val_loss: 0.6144 - val_accuracy: 0.7667\n",
      "Epoch 24/64\n",
      "27/27 [==============================] - 1s 39ms/step - loss: 0.4039 - accuracy: 0.8577 - val_loss: 0.6376 - val_accuracy: 0.7667\n",
      "Epoch 25/64\n",
      "27/27 [==============================] - 1s 38ms/step - loss: 0.3638 - accuracy: 0.8614 - val_loss: 0.5279 - val_accuracy: 0.7667\n",
      "Epoch 26/64\n",
      "27/27 [==============================] - 2s 60ms/step - loss: 0.3164 - accuracy: 0.8727 - val_loss: 0.5204 - val_accuracy: 0.7667\n",
      "Epoch 27/64\n",
      "27/27 [==============================] - 1s 39ms/step - loss: 0.4123 - accuracy: 0.8764 - val_loss: 1.5213 - val_accuracy: 0.5333\n",
      "Epoch 28/64\n",
      "27/27 [==============================] - 1s 52ms/step - loss: 0.4855 - accuracy: 0.8352 - val_loss: 0.5331 - val_accuracy: 0.8000\n",
      "Epoch 29/64\n",
      "27/27 [==============================] - 1s 35ms/step - loss: 0.3264 - accuracy: 0.8801 - val_loss: 0.4644 - val_accuracy: 0.8000\n",
      "Epoch 30/64\n",
      "27/27 [==============================] - 1s 35ms/step - loss: 0.3365 - accuracy: 0.8876 - val_loss: 0.4392 - val_accuracy: 0.7667\n",
      "Epoch 31/64\n",
      "27/27 [==============================] - 1s 52ms/step - loss: 0.3004 - accuracy: 0.8764 - val_loss: 0.4254 - val_accuracy: 0.8000\n",
      "Epoch 32/64\n",
      "27/27 [==============================] - 1s 42ms/step - loss: 0.4007 - accuracy: 0.8427 - val_loss: 0.8815 - val_accuracy: 0.7667\n",
      "Epoch 33/64\n",
      "27/27 [==============================] - 1s 47ms/step - loss: 0.3298 - accuracy: 0.8727 - val_loss: 0.5143 - val_accuracy: 0.8333\n",
      "Epoch 34/64\n",
      "27/27 [==============================] - 1s 38ms/step - loss: 0.2995 - accuracy: 0.8801 - val_loss: 0.4121 - val_accuracy: 0.7667\n",
      "Epoch 35/64\n",
      "27/27 [==============================] - 1s 37ms/step - loss: 0.2708 - accuracy: 0.9139 - val_loss: 0.4613 - val_accuracy: 0.7667\n",
      "Epoch 36/64\n",
      "27/27 [==============================] - 2s 58ms/step - loss: 0.2493 - accuracy: 0.9064 - val_loss: 0.7312 - val_accuracy: 0.7667\n",
      "Epoch 37/64\n",
      "27/27 [==============================] - 1s 47ms/step - loss: 0.3264 - accuracy: 0.8652 - val_loss: 0.4367 - val_accuracy: 0.8333\n",
      "Epoch 38/64\n",
      "27/27 [==============================] - 1s 55ms/step - loss: 0.3207 - accuracy: 0.8727 - val_loss: 0.4478 - val_accuracy: 0.8000\n",
      "Epoch 39/64\n",
      "27/27 [==============================] - 1s 36ms/step - loss: 0.2257 - accuracy: 0.8989 - val_loss: 0.4071 - val_accuracy: 0.7667\n",
      "Epoch 40/64\n",
      "27/27 [==============================] - 1s 43ms/step - loss: 0.2418 - accuracy: 0.9176 - val_loss: 0.9276 - val_accuracy: 0.7000\n",
      "Epoch 41/64\n",
      "27/27 [==============================] - 2s 65ms/step - loss: 0.3681 - accuracy: 0.8689 - val_loss: 0.3795 - val_accuracy: 0.7667\n",
      "Epoch 42/64\n",
      "27/27 [==============================] - 1s 38ms/step - loss: 0.3758 - accuracy: 0.8577 - val_loss: 0.5561 - val_accuracy: 0.7333\n",
      "Epoch 43/64\n",
      "27/27 [==============================] - 2s 57ms/step - loss: 0.2990 - accuracy: 0.8876 - val_loss: 0.4176 - val_accuracy: 0.7667\n",
      "Epoch 44/64\n",
      "27/27 [==============================] - 1s 37ms/step - loss: 0.2303 - accuracy: 0.9101 - val_loss: 0.4117 - val_accuracy: 0.8000\n",
      "Epoch 45/64\n",
      "27/27 [==============================] - 1s 49ms/step - loss: 0.2409 - accuracy: 0.9026 - val_loss: 0.3808 - val_accuracy: 0.8667\n"
     ]
    },
    {
     "name": "stderr",
     "output_type": "stream",
     "text": [
      "WARNING:absl:Found untraced functions such as _jit_compiled_convolution_op, _jit_compiled_convolution_op, _jit_compiled_convolution_op, _jit_compiled_convolution_op, _update_step_xla while saving (showing 5 of 5). These functions will not be directly callable after loading.\n"
     ]
    },
    {
     "name": "stdout",
     "output_type": "stream",
     "text": [
      "INFO:tensorflow:Assets written to: ML_Proj_Data/model/[Else]-[01EDIT]-[RGBcanny]-[None]\\assets\n"
     ]
    },
    {
     "name": "stderr",
     "output_type": "stream",
     "text": [
      "INFO:tensorflow:Assets written to: ML_Proj_Data/model/[Else]-[01EDIT]-[RGBcanny]-[None]\\assets\n"
     ]
    }
   ],
   "source": [
    "# Create\n",
    "model = create_model(input_dimension=img_size, channels = channels, model_type=var_model)\n",
    "now = datetime.now()\n",
    "csv_logger = CSVLogger('LOG-[{modeltype}]-[{dataset}]-[{imgaug01}]-[{imgaug02}]-[{date}]-[{time}].csv'.format(\n",
    "    modeltype=var_model,\n",
    "    dataset=var_data,\n",
    "    imgaug01=var_aug[0],\n",
    "    imgaug02=var_aug[1],\n",
    "    date=now.strftime(\"%Y%m%d\"),\n",
    "    time=now.strftime(\"%H%M%S\")))\n",
    "early_stopping = EarlyStopping(monitor='accuracy', patience=5)\n",
    "\n",
    "# Train and Save\n",
    "\n",
    "callback = model.fit(x=X_train/255, y=y_train, batch_size=batchsize, epochs=epochs, validation_data=(X_validate/255,y_validate), callbacks = [early_stopping,csv_logger])\n",
    "save_model(model,model_data_id)"
   ]
  },
  {
   "attachments": {},
   "cell_type": "markdown",
   "metadata": {},
   "source": [
    "# Model Evaluation"
   ]
  },
  {
   "attachments": {},
   "cell_type": "markdown",
   "metadata": {},
   "source": [
    "## Evaluate Model Against Test Data"
   ]
  },
  {
   "cell_type": "code",
   "execution_count": 12,
   "metadata": {},
   "outputs": [
    {
     "name": "stdout",
     "output_type": "stream",
     "text": [
      "2/2 [==============================] - 0s 30ms/step - loss: 0.6990 - accuracy: 0.8167\n"
     ]
    },
    {
     "data": {
      "text/plain": [
       "[0.6989931464195251, 0.8166666626930237]"
      ]
     },
     "execution_count": 12,
     "metadata": {},
     "output_type": "execute_result"
    }
   ],
   "source": [
    "# Test against Cher Wah's Test Data\n",
    "model = load_model(model_data_id)\n",
    "test_model(model, X_test/255, y_test)"
   ]
  },
  {
   "attachments": {},
   "cell_type": "markdown",
   "metadata": {},
   "source": [
    "## Graph Data Setup"
   ]
  },
  {
   "cell_type": "code",
   "execution_count": 13,
   "metadata": {},
   "outputs": [
    {
     "name": "stdout",
     "output_type": "stream",
     "text": [
      "(45, 2)\n",
      "    training loss  validation loss\n",
      "40       0.368125         0.379515\n",
      "41       0.375837         0.556097\n",
      "42       0.299013         0.417610\n",
      "43       0.230295         0.411655\n",
      "44       0.240899         0.380760\n",
      "(45, 2)\n",
      "    training accuracy  validation accuracy\n",
      "40           0.868914             0.766667\n",
      "41           0.857678             0.733333\n",
      "42           0.887640             0.766667\n",
      "43           0.910112             0.800000\n",
      "44           0.902622             0.866667\n"
     ]
    }
   ],
   "source": [
    "# Prepare DataFrames for Graphing\n",
    "\n",
    "tl = callback.history['loss']\n",
    "vl = callback.history['val_loss']\n",
    "t2 = callback.history['accuracy']\n",
    "v2 = callback.history['val_accuracy']\n",
    "\n",
    "df_train_loss = pd.DataFrame({\"training loss\":tl,\"validation loss\":vl})\n",
    "df_train_acc = pd.DataFrame({\"training accuracy\":t2,\"validation accuracy\":v2})\n",
    "\n",
    "print(df_train_loss.shape)\n",
    "print (df_train_loss.tail())\n",
    "print(df_train_acc.shape)\n",
    "print (df_train_acc.tail())"
   ]
  },
  {
   "attachments": {},
   "cell_type": "markdown",
   "metadata": {},
   "source": [
    "## Graph Model Performance"
   ]
  },
  {
   "cell_type": "code",
   "execution_count": 14,
   "metadata": {},
   "outputs": [
    {
     "data": {
      "image/png": "[encoded data removed]",
      "text/plain": [
       "<Figure size 640x480 with 1 Axes>"
      ]
     },
     "metadata": {},
     "output_type": "display_data"
    },
    {
     "data": {
      "image/png": "[encoded data removed]",
      "text/plain": [
       "<Figure size 640x480 with 1 Axes>"
      ]
     },
     "metadata": {},
     "output_type": "display_data"
    }
   ],
   "source": [
    "sns.lineplot(data= df_train_loss).set(xlabel=\"Epochs\", ylabel=\"Loss\")\n",
    "plt.suptitle(t=\"Loss Curves\")\n",
    "plt.show()\n",
    "\n",
    "sns.lineplot(data = df_train_acc).set(xlabel=\"Epochs\", ylabel=\"Accuracy\")\n",
    "plt.suptitle(t=\"Accuracy Curves\")\n",
    "plt.show()"
   ]
  },
  {
   "attachments": {},
   "cell_type": "markdown",
   "metadata": {},
   "source": [
    "# Additional"
   ]
  },
  {
   "attachments": {},
   "cell_type": "markdown",
   "metadata": {},
   "source": [
    "Things to watch for in your graph:\n",
    "- Training and validation accuracy SHOULD increase per epoch. \n",
    "\n",
    "- Very low Validation/Training curve comparative to the other curve: Data was not normalized\n",
    "\n",
    "Overfitting\n",
    "\n",
    "- Big/Growing gap between training and validation accuracy: Model is memorizing the training data instead of generalizing patterns.\n",
    "\n",
    "- Validation accuracy reaches a peak then stays/declines (but training accuracy increases): Model is too complex/is fitting noise or irrelevant patterns from the training data.\n",
    "\n",
    "- Sudden Drops in validation accuracy (but training accuracy increases): Model has started to learn specific patterns or outliers in the training data that do not generalize well.\n",
    "\n",
    "- Erratic behavior, sharp spikes, sudden drops/increase in accuracy\n",
    "\n",
    "Underfitting\n",
    "- High training loss: Model struggles to capture the patterns and complexities of the training data/unable to fit the data well.\n",
    "\n",
    "- High training accuracy, low validation accuracy: Model fails to generalize to unseen examples.\n",
    "\n",
    "- Train and Validation curves converge slowly\n",
    "\n",
    "- Loss curve may plateauing at a relatively high value without significant improvement: suggesting that the model is not learning the underlying patterns of the data.\n",
    "Mean convergence epoch = somewhere between 27-44 (32)\n",
    "\n",
    "- Large gap between training and validation loss"
   ]
  },
  {
   "attachments": {},
   "cell_type": "markdown",
   "metadata": {},
   "source": [
    "<h4>Edited Model and Augmented Dataset"
   ]
  },
  {
   "attachments": {},
   "cell_type": "markdown",
   "metadata": {},
   "source": [
    "- Balance out the number of samples in each class (Manually)\n",
    "- Correct any mis-labelling in any of the 4 classes (Manually) \n",
    "    [banana_61, banana_35]\n",
    "- Increased number of layers (high impact)\n",
    "- (?) Automatically augment"
   ]
  },
  {
   "cell_type": "code",
   "execution_count": 15,
   "metadata": {},
   "outputs": [],
   "source": [
    "# # Set Variables\n",
    "# img_size = 224\n",
    "# epochs = 64\n",
    "# modeltype = '000'\n",
    "# subfoldername='01EDIT'"
   ]
  }
 ],
 "metadata": {
  "kernelspec": {
   "display_name": "gdipsa",
   "language": "python",
   "name": "python3"
  },
  "language_info": {
   "codemirror_mode": {
    "name": "ipython",
    "version": 3
   },
   "file_extension": ".py",
   "mimetype": "text/x-python",
   "name": "python",
   "nbconvert_exporter": "python",
   "pygments_lexer": "ipython3",
   "version": "3.10.10"
  },
  "orig_nbformat": 4
 },
 "nbformat": 4,
 "nbformat_minor": 2
}
